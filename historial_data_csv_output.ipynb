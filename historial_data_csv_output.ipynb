{
 "cells": [
  {
   "cell_type": "code",
   "execution_count": 1,
   "id": "f395b78c",
   "metadata": {},
   "outputs": [],
   "source": [
    "import pandas as pd"
   ]
  },
  {
   "cell_type": "code",
   "execution_count": 2,
   "id": "c8c440e7",
   "metadata": {},
   "outputs": [
    {
     "name": "stdout",
     "output_type": "stream",
     "text": [
      "Found 166 unique streets\n"
     ]
    }
   ],
   "source": [
    "# Load the street mapping data\n",
    "zones_df = pd.read_csv(\"./Datasets/parking-zones-linked-to-street-segments.csv\")\n",
    "\n",
    "# Get unique street names that we care about (from your real-time data)\n",
    "unique_streets = zones_df['OnStreet'].unique()\n",
    "print(f\"Found {len(unique_streets)} unique streets\")"
   ]
  },
  {
   "cell_type": "code",
   "execution_count": 3,
   "id": "fbc7f104",
   "metadata": {},
   "outputs": [],
   "source": [
    "# Function to process each year's usage data\n",
    "def process_year_data(year):\n",
    "    \"\"\"Process historical parking data for one year\"\"\"\n",
    "    \n",
    "    # Load the usage data for this year with correct file names\n",
    "    if year == 2017:\n",
    "        usage_df = pd.read_csv(\"./Datasets/On-street_Car_Parking_Sensor_Data_-_2017.csv\")\n",
    "    elif year == 2018:\n",
    "        usage_df = pd.read_csv(\"./Datasets/On-street_Car_Parking_Sensor_Data_-_2018.csv\")\n",
    "    elif year == 2019:\n",
    "        usage_df = pd.read_csv(\"./Datasets/On-street_Car_Parking_Sensor_Data_-_2019.csv\")\n",
    "    elif year == 2020:\n",
    "        usage_df = pd.read_csv(\"./Datasets/On-street_Car_Parking_Sensor_Data_-_2020__Jan_-_May_.csv\")\n",
    "    \n",
    "    # Clean up the data - handle different duration column names\n",
    "    usage_df = usage_df.dropna(subset=['StreetName'])\n",
    "    \n",
    "    # Handle different duration column names by year\n",
    "    if year == 2017:\n",
    "        duration_col = 'DurationSeconds'\n",
    "        time_multiplier = 1  # Already in seconds\n",
    "    else:  # 2018-2020\n",
    "        duration_col = 'DurationMinutes' \n",
    "        time_multiplier = 60  # Convert minutes to seconds\n",
    "    \n",
    "    # Check if duration column exists\n",
    "    if duration_col not in usage_df.columns:\n",
    "        print(f\"Warning: {duration_col} not found in {year} data. Available columns: {usage_df.columns.tolist()}\")\n",
    "        return pd.DataFrame()  # Return empty dataframe\n",
    "    \n",
    "    # Convert duration to numeric and handle missing values\n",
    "    usage_df[duration_col] = pd.to_numeric(usage_df[duration_col], errors='coerce')\n",
    "    usage_df = usage_df.dropna(subset=[duration_col])\n",
    "    \n",
    "    # Convert all to seconds for consistency\n",
    "    usage_df['DurationSeconds'] = usage_df[duration_col] * time_multiplier\n",
    "    \n",
    "    # Normalize street names to handle case differences\n",
    "    # Convert zones data to uppercase for comparison\n",
    "    valid_streets_upper = [street.upper() for street in zones_df['OnStreet'].unique()]\n",
    "    \n",
    "    # Convert historical street names to uppercase and filter\n",
    "    usage_df['StreetName_Upper'] = usage_df['StreetName'].str.upper()\n",
    "    usage_filtered = usage_df[usage_df['StreetName_Upper'].isin(valid_streets_upper)]\n",
    "    \n",
    "    # Sum duration by street (using normalized street name)\n",
    "    street_usage = usage_filtered.groupby('StreetName_Upper').agg({\n",
    "        'DurationSeconds': 'sum'\n",
    "    }).reset_index()\n",
    "    \n",
    "    # Map back to original case from zones data\n",
    "    street_name_mapping = dict(zip(\n",
    "        [street.upper() for street in zones_df['OnStreet'].unique()],\n",
    "        zones_df['OnStreet'].unique()\n",
    "    ))\n",
    "    \n",
    "    street_usage['OnStreet'] = street_usage['StreetName_Upper'].map(street_name_mapping)\n",
    "    street_usage = street_usage.drop('StreetName_Upper', axis=1)\n",
    "    \n",
    "    # Add year column\n",
    "    street_usage['Year'] = year\n",
    "    \n",
    "    # Convert to hours for readability\n",
    "    street_usage['DurationHours'] = street_usage['DurationSeconds'] / 3600\n",
    "    \n",
    "    return street_usage[['OnStreet', 'Year', 'DurationHours']]"
   ]
  },
  {
   "cell_type": "code",
   "execution_count": 4,
   "id": "943f4bfe",
   "metadata": {},
   "outputs": [
    {
     "name": "stdout",
     "output_type": "stream",
     "text": [
      "Processed 2017: 93 streets\n"
     ]
    },
    {
     "name": "stderr",
     "output_type": "stream",
     "text": [
      "/var/folders/ww/_1pfw06d59s1mg8kl6rxm_3h0000gn/T/ipykernel_2710/1335899254.py:9: DtypeWarning: Columns (3,12) have mixed types. Specify dtype option on import or set low_memory=False.\n",
      "  usage_df = pd.read_csv(\"./Datasets/On-street_Car_Parking_Sensor_Data_-_2018.csv\")\n"
     ]
    },
    {
     "name": "stdout",
     "output_type": "stream",
     "text": [
      "Processed 2018: 97 streets\n"
     ]
    },
    {
     "name": "stderr",
     "output_type": "stream",
     "text": [
      "/var/folders/ww/_1pfw06d59s1mg8kl6rxm_3h0000gn/T/ipykernel_2710/1335899254.py:11: DtypeWarning: Columns (3) have mixed types. Specify dtype option on import or set low_memory=False.\n",
      "  usage_df = pd.read_csv(\"./Datasets/On-street_Car_Parking_Sensor_Data_-_2019.csv\")\n"
     ]
    },
    {
     "name": "stdout",
     "output_type": "stream",
     "text": [
      "Processed 2019: 97 streets\n"
     ]
    },
    {
     "name": "stderr",
     "output_type": "stream",
     "text": [
      "/var/folders/ww/_1pfw06d59s1mg8kl6rxm_3h0000gn/T/ipykernel_2710/1335899254.py:13: DtypeWarning: Columns (3,8) have mixed types. Specify dtype option on import or set low_memory=False.\n",
      "  usage_df = pd.read_csv(\"./Datasets/On-street_Car_Parking_Sensor_Data_-_2020__Jan_-_May_.csv\")\n"
     ]
    },
    {
     "name": "stdout",
     "output_type": "stream",
     "text": [
      "Processed 2020: 97 streets\n"
     ]
    }
   ],
   "source": [
    "# Process all 4 years (2017-2020)\n",
    "all_years_data = []\n",
    "\n",
    "for year in [2017, 2018, 2019, 2020]:\n",
    "    try:\n",
    "        year_data = process_year_data(year)\n",
    "        all_years_data.append(year_data)\n",
    "        print(f\"Processed {year}: {len(year_data)} streets\")\n",
    "    except Exception as e:\n",
    "        print(f\"Error processing {year}: {e}\")"
   ]
  },
  {
   "cell_type": "code",
   "execution_count": 5,
   "id": "779ebf1b",
   "metadata": {},
   "outputs": [
    {
     "name": "stdout",
     "output_type": "stream",
     "text": [
      "\n",
      "Historical analysis complete!\n",
      "Exported data for 99 streets\n",
      "\n",
      "Columns in output: [2017, 2018, 2019, '2020 (Jan-May)']\n",
      "\n",
      "Sample data (first 5 streets):\n",
      "                   2017    2018     2019  2020 (Jan-May)\n",
      "OnStreet                                                \n",
      "A'Beckett Street  17162  207986   181125           47136\n",
      "Albert Street     28565  768962  1137324          266202\n",
      "Aquitania Way      6266   73848    83826           29763\n",
      "Augusta Avenue      601   32741    34381           13884\n",
      "Aurora Lane        4102   96311    84107           29492\n"
     ]
    }
   ],
   "source": [
    "# Combine all years\n",
    "if all_years_data:\n",
    "    historical_usage = pd.concat(all_years_data, ignore_index=True)\n",
    "    \n",
    "    # Create pivot table: Streets vs Years\n",
    "    usage_summary = historical_usage.pivot(\n",
    "        index='OnStreet', \n",
    "        columns='Year', \n",
    "        values='DurationHours'\n",
    "    ).fillna(0)\n",
    "    \n",
    "    # Round to whole numbers\n",
    "    usage_summary = usage_summary.round(0).astype(int)\n",
    "    \n",
    "    # Rename 2020 column to indicate it's partial data\n",
    "    if 2020 in usage_summary.columns:\n",
    "        usage_summary = usage_summary.rename(columns={2020: '2020 (Jan-May)'})\n",
    "    \n",
    "    # Remove the columns name label for cleaner output\n",
    "    usage_summary.columns.name = None\n",
    "    \n",
    "    # Export to CSV\n",
    "    usage_summary.to_csv('historical_street_usage_2017_2020.csv')\n",
    "    \n",
    "    print(f\"\\nHistorical analysis complete!\")\n",
    "    print(f\"Exported data for {len(usage_summary)} streets\")\n",
    "    print(f\"\\nColumns in output: {list(usage_summary.columns)}\")\n",
    "    print(f\"\\nSample data (first 5 streets):\")\n",
    "    print(usage_summary.head())\n",
    "\n",
    "else:\n",
    "    print(\"No data processed successfully\")"
   ]
  }
 ],
 "metadata": {
  "kernelspec": {
   "display_name": "base",
   "language": "python",
   "name": "python3"
  },
  "language_info": {
   "codemirror_mode": {
    "name": "ipython",
    "version": 3
   },
   "file_extension": ".py",
   "mimetype": "text/x-python",
   "name": "python",
   "nbconvert_exporter": "python",
   "pygments_lexer": "ipython3",
   "version": "3.12.2"
  }
 },
 "nbformat": 4,
 "nbformat_minor": 5
}
