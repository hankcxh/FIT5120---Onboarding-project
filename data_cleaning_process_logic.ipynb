{
 "cells": [
  {
   "cell_type": "markdown",
   "id": "be0f37ec",
   "metadata": {},
   "source": [
    "# Melbourne Parking Data Cleaning & Processing"
   ]
  },
  {
   "cell_type": "code",
   "execution_count": 1,
   "id": "a49e86ab",
   "metadata": {},
   "outputs": [],
   "source": [
    "import pandas as pd\n",
    "from datetime import datetime\n",
    "import warnings\n",
    "warnings.filterwarnings(\"ignore\")"
   ]
  },
  {
   "cell_type": "code",
   "execution_count": 2,
   "id": "d800d12f",
   "metadata": {},
   "outputs": [],
   "source": [
    "# Set base directory\n",
    "base_dir = \"./Datasets\" \n",
    "\n",
    "sensors_df = pd.read_csv(f\"{base_dir}/on-street-parking-bay-sensors.csv\")\n",
    "bays_df = pd.read_csv(f\"{base_dir}/on-street-parking-bays.csv\")\n",
    "zones_df = pd.read_csv(f\"{base_dir}/parking-zones-linked-to-street-segments.csv\")\n",
    "restrictions_df = pd.read_csv(f\"{base_dir}/sign-plates-located-in-each-parking-zone.csv\")"
   ]
  },
  {
   "cell_type": "markdown",
   "id": "029476f9",
   "metadata": {},
   "source": [
    "## 1. Sensor Data"
   ]
  },
  {
   "cell_type": "markdown",
   "id": "19d68028",
   "metadata": {},
   "source": [
    "**Purpose:** Prepare real-time sensor data for analysis\n",
    "\n",
    "- Remove parking zones with null values\n",
    "- Filter out sensor readings older than 30 minutes to ensure real-time relevance\n",
    "- Validate that each KerbsideID is unique"
   ]
  },
  {
   "cell_type": "code",
   "execution_count": 3,
   "id": "4b030615",
   "metadata": {},
   "outputs": [],
   "source": [
    "# Make a copy\n",
    "sensors_clean = sensors_df.copy()\n",
    "\n",
    "# 1. Remove null zones\n",
    "sensors_clean = sensors_clean[sensors_clean[\"Zone_Number\"].notna()]\n",
    "\n",
    "# 2. Remove data older than 30 mins\n",
    "sensors_clean[\"Status_Timestamp\"] = pd.to_datetime(sensors_clean[\"Status_Timestamp\"])\n",
    "latest_time = sensors_clean['Status_Timestamp'].max()\n",
    "cutoff_time = latest_time - pd.Timedelta(minutes=30)\n",
    "\n",
    "# cutoff_time = datetime.now() - pd.Timedelta(minutes=30)\n",
    "\n",
    "sensors_clean = sensors_clean[sensors_clean[\"Status_Timestamp\"] >= cutoff_time]"
   ]
  },
  {
   "cell_type": "code",
   "execution_count": 4,
   "id": "359ecd2e",
   "metadata": {},
   "outputs": [
    {
     "name": "stdout",
     "output_type": "stream",
     "text": [
      "Total rows: 661\n",
      "Unique KerbsideIDs: 661\n",
      "Are all KerbsideIDs unique? True\n"
     ]
    }
   ],
   "source": [
    "# Check if KerbsideIDs are unique after cleaning\n",
    "kerbside_count = len(sensors_clean)\n",
    "unique_kerbside_count = sensors_clean['KerbsideID'].nunique()\n",
    "\n",
    "print(f\"Total rows: {kerbside_count}\")\n",
    "print(f\"Unique KerbsideIDs: {unique_kerbside_count}\")\n",
    "print(f\"Are all KerbsideIDs unique? {kerbside_count == unique_kerbside_count}\")\n",
    "\n",
    "# If not unique, see the duplicates\n",
    "if kerbside_count != unique_kerbside_count:\n",
    "   duplicates = sensors_clean[sensors_clean.duplicated(subset=['KerbsideID'], keep=False)]\n",
    "   print(f\"Duplicate KerbsideIDs: {len(duplicates)}\")"
   ]
  },
  {
   "cell_type": "code",
   "execution_count": 5,
   "id": "8e441743",
   "metadata": {},
   "outputs": [
    {
     "data": {
      "text/html": [
       "<div>\n",
       "<style scoped>\n",
       "    .dataframe tbody tr th:only-of-type {\n",
       "        vertical-align: middle;\n",
       "    }\n",
       "\n",
       "    .dataframe tbody tr th {\n",
       "        vertical-align: top;\n",
       "    }\n",
       "\n",
       "    .dataframe thead th {\n",
       "        text-align: right;\n",
       "    }\n",
       "</style>\n",
       "<table border=\"1\" class=\"dataframe\">\n",
       "  <thead>\n",
       "    <tr style=\"text-align: right;\">\n",
       "      <th></th>\n",
       "      <th>Lastupdated</th>\n",
       "      <th>Status_Timestamp</th>\n",
       "      <th>Zone_Number</th>\n",
       "      <th>Status_Description</th>\n",
       "      <th>KerbsideID</th>\n",
       "      <th>Location</th>\n",
       "    </tr>\n",
       "  </thead>\n",
       "  <tbody>\n",
       "    <tr>\n",
       "      <th>450</th>\n",
       "      <td>2025-08-09T10:29:39+10:00</td>\n",
       "      <td>2025-08-09 10:28:08+10:00</td>\n",
       "      <td>7649.0</td>\n",
       "      <td>Present</td>\n",
       "      <td>50663</td>\n",
       "      <td>-37.80908828360667, 144.97187134487461</td>\n",
       "    </tr>\n",
       "    <tr>\n",
       "      <th>454</th>\n",
       "      <td>2025-08-09T10:29:39+10:00</td>\n",
       "      <td>2025-08-09 10:26:27+10:00</td>\n",
       "      <td>7649.0</td>\n",
       "      <td>Present</td>\n",
       "      <td>50669</td>\n",
       "      <td>-37.80878490795517, 144.97173126985038</td>\n",
       "    </tr>\n",
       "    <tr>\n",
       "      <th>455</th>\n",
       "      <td>2025-08-09T10:29:39+10:00</td>\n",
       "      <td>2025-08-09 10:17:32+10:00</td>\n",
       "      <td>7649.0</td>\n",
       "      <td>Present</td>\n",
       "      <td>50670</td>\n",
       "      <td>-37.80873508250238, 144.97170828952787</td>\n",
       "    </tr>\n",
       "    <tr>\n",
       "      <th>463</th>\n",
       "      <td>2025-08-09T10:29:39+10:00</td>\n",
       "      <td>2025-08-09 10:19:58+10:00</td>\n",
       "      <td>7558.0</td>\n",
       "      <td>Unoccupied</td>\n",
       "      <td>65183</td>\n",
       "      <td>-37.810487086510605, 144.9687299278653</td>\n",
       "    </tr>\n",
       "    <tr>\n",
       "      <th>464</th>\n",
       "      <td>2025-08-09T10:29:39+10:00</td>\n",
       "      <td>2025-08-09 10:09:06+10:00</td>\n",
       "      <td>7556.0</td>\n",
       "      <td>Present</td>\n",
       "      <td>65162</td>\n",
       "      <td>-37.81057630472673, 144.9680868422238</td>\n",
       "    </tr>\n",
       "  </tbody>\n",
       "</table>\n",
       "</div>"
      ],
      "text/plain": [
       "                   Lastupdated           Status_Timestamp  Zone_Number  \\\n",
       "450  2025-08-09T10:29:39+10:00  2025-08-09 10:28:08+10:00       7649.0   \n",
       "454  2025-08-09T10:29:39+10:00  2025-08-09 10:26:27+10:00       7649.0   \n",
       "455  2025-08-09T10:29:39+10:00  2025-08-09 10:17:32+10:00       7649.0   \n",
       "463  2025-08-09T10:29:39+10:00  2025-08-09 10:19:58+10:00       7558.0   \n",
       "464  2025-08-09T10:29:39+10:00  2025-08-09 10:09:06+10:00       7556.0   \n",
       "\n",
       "    Status_Description  KerbsideID                                Location  \n",
       "450            Present       50663  -37.80908828360667, 144.97187134487461  \n",
       "454            Present       50669  -37.80878490795517, 144.97173126985038  \n",
       "455            Present       50670  -37.80873508250238, 144.97170828952787  \n",
       "463         Unoccupied       65183  -37.810487086510605, 144.9687299278653  \n",
       "464            Present       65162   -37.81057630472673, 144.9680868422238  "
      ]
     },
     "execution_count": 5,
     "metadata": {},
     "output_type": "execute_result"
    }
   ],
   "source": [
    "sensors_clean.head()"
   ]
  },
  {
   "cell_type": "markdown",
   "id": "db561c91",
   "metadata": {},
   "source": [
    "## 2. Clean Zones Data"
   ]
  },
  {
   "cell_type": "markdown",
   "id": "07647009",
   "metadata": {},
   "source": [
    "**Purpose:** Map parking zones to street names\n",
    "\n",
    "- Filter parking zones to match available sensor data\n",
    "- Create street-to-zone mappings for location grouping\n",
    "- Identify streets with unique parking zones from all total sensor zones"
   ]
  },
  {
   "cell_type": "code",
   "execution_count": 6,
   "id": "a6b70dba",
   "metadata": {},
   "outputs": [],
   "source": [
    "# Make a copy of the zones data and get street names\n",
    "zones_clean = zones_df.copy()\n",
    "\n",
    "# Just the zone numbers from cleaned sensor data\n",
    "sensor_zones = sensors_clean['Zone_Number'].unique()\n",
    "filtered_zones = zones_clean[zones_clean['ParkingZone'].isin(sensor_zones)]\n",
    "street_zones_dict = filtered_zones.groupby('OnStreet')['ParkingZone'].apply(list).to_dict()"
   ]
  },
  {
   "cell_type": "code",
   "execution_count": 7,
   "id": "9d9dd0cb",
   "metadata": {},
   "outputs": [
    {
     "name": "stdout",
     "output_type": "stream",
     "text": [
      "Streets found: 52\n",
      "Street-zone mappings:\n",
      "  Albert Street: [7236, 7236, 7237, 7239, 7245, 7234]\n",
      "  Aquitania Way: [7156, 7156]\n",
      "  Blackwood Street: [7708]\n",
      "  Bond Street: [7331, 7329]\n",
      "  Bourke Street: [7340, 7332, 7335, 7579, 7178, 7173, 7333, 7345, 7334, 7339, 7336, 7343, 7320, 7170]\n",
      "  Bromby Street: [7348, 7348, 7348]\n",
      "  Cathedral Place: [7247]\n",
      "  Church Street: [7350]\n",
      "  Cobden Street: [7721, 7716, 7716, 7721]\n",
      "  Collins Street: [7355, 7359, 7358, 7366, 7360, 7363, 7190, 7189, 7356, 7362, 7344]\n"
     ]
    }
   ],
   "source": [
    "# Check result\n",
    "print(f\"Streets found: {len(street_zones_dict)}\")\n",
    "print(\"Street-zone mappings:\")\n",
    "for street, zones in list(street_zones_dict.items())[:10]:\n",
    "   print(f\"  {street}: {zones}\")"
   ]
  },
  {
   "cell_type": "code",
   "execution_count": 8,
   "id": "d8f33a5d",
   "metadata": {},
   "outputs": [
    {
     "name": "stdout",
     "output_type": "stream",
     "text": [
      "Total unique zones across all streets: 175\n",
      "Zones in your sensor data: 199\n",
      "Missing zones: 24\n",
      "{7689.0, 7690.0, 7949.0, 7696.0, 7697.0, 7591.0, 7593.0, 7347.0, 7478.0, 7485.0, 7365.0, 7621.0, 7503.0, 7506.0, 7763.0, 7764.0, 7765.0, 7769.0, 7772.0, 7389.0, 7780.0, 7792.0, 7542.0, 7676.0}\n"
     ]
    }
   ],
   "source": [
    "# Count total unique zones across all streets\n",
    "all_zones = set()\n",
    "for zones in street_zones_dict.values():\n",
    "   all_zones.update(zones)\n",
    "\n",
    "total_unique_zones = len(all_zones)\n",
    "print(f\"Total unique zones across all streets: {total_unique_zones}\")\n",
    "\n",
    "# Compare with sensor data\n",
    "sensor_zones_count = sensors_clean['Zone_Number'].nunique()\n",
    "print(f\"Zones in your sensor data: {sensor_zones_count}\")\n",
    "\n",
    "# List out the missing zones\n",
    "missing_zones = set(sensors_clean['Zone_Number'].unique()) - set(all_zones)\n",
    "print(f\"Missing zones: {len(missing_zones)}\")\n",
    "print(missing_zones)"
   ]
  },
  {
   "cell_type": "markdown",
   "id": "82beaf3c",
   "metadata": {},
   "source": [
    "## 3. Get Street Coordinates from Bays Data"
   ]
  },
  {
   "cell_type": "markdown",
   "id": "b327c485",
   "metadata": {},
   "source": [
    "**Purpose**: Get geographic coordinates for mapping\n",
    "\n",
    "- Map Segment_IDs to street names from zones data\n",
    "- Merge latitude/longitude coordinates from parking bays dataset\n",
    "- **Calculate average coordinates per street name** (handling multiple segments per street)\n",
    "- Results: X streets with representative coordinate points"
   ]
  },
  {
   "cell_type": "code",
   "execution_count": 9,
   "id": "4d43ec02",
   "metadata": {},
   "outputs": [
    {
     "name": "stdout",
     "output_type": "stream",
     "text": [
      "Got coordinates for 52 streets\n",
      "           OnStreet   Latitude   Longitude\n",
      "0     Albert Street -37.809793  144.977912\n",
      "1     Aquitania Way -37.813803  144.942232\n",
      "2  Blackwood Street -37.801301  144.955081\n",
      "3       Bond Street -37.818115  144.962761\n",
      "4     Bourke Street -37.815462  144.958880\n"
     ]
    }
   ],
   "source": [
    "# Get Segment_IDs for the streets\n",
    "street_segments = filtered_zones[\"Segment_ID\"].unique()\n",
    "\n",
    "# Get lat/lon from parking bays using Segment_IDs\n",
    "bays_clean = bays_df.copy()\n",
    "street_locations = bays_clean[bays_clean[\"RoadSegmentID\"].isin(street_segments)]\n",
    "\n",
    "# Get average lat/lon for each segment\n",
    "street_coordinates = street_locations.groupby('RoadSegmentID').agg({\n",
    "    'Latitude': 'mean',\n",
    "    'Longitude': 'mean'\n",
    "}).reset_index()\n",
    "\n",
    "# Link segments to street names and average by street\n",
    "# Link segments to street names\n",
    "segment_to_street = filtered_zones[['Segment_ID', 'OnStreet']].drop_duplicates()\n",
    "\n",
    "# Merge coordinate data\n",
    "street_coords = street_coordinates.merge(segment_to_street, left_on='RoadSegmentID', right_on='Segment_ID')\n",
    "\n",
    "# Average coordinates by street name\n",
    "street_avg_coords = street_coords.groupby('OnStreet').agg({\n",
    "    'Latitude': 'mean',\n",
    "    'Longitude': 'mean'\n",
    "}).reset_index()\n",
    "\n",
    "print(f\"Got coordinates for {len(street_avg_coords)} streets\")\n",
    "print(street_avg_coords.head())"
   ]
  },
  {
   "cell_type": "markdown",
   "id": "336eef40",
   "metadata": {},
   "source": [
    "## 4. Filter Restrictions Data"
   ]
  },
  {
   "cell_type": "markdown",
   "id": "46975fc9",
   "metadata": {},
   "source": [
    "**Purpose:** Identify parkable zones and their time restrictions\n",
    "\n",
    "- Filter restrictions to match sensor zone numbers\n",
    "- Remove \"Never Available\" zones (Prohibited Parking/Disabled Parking)\n",
    "- Extract parking time restrictions, days, and display information"
   ]
  },
  {
   "cell_type": "code",
   "execution_count": 10,
   "id": "f74d7f5b",
   "metadata": {},
   "outputs": [],
   "source": [
    "# Get restrictions for your sensor zones\n",
    "sensor_zone_numbers = sensors_clean[\"Zone_Number\"].unique()\n",
    "\n",
    "# Filter restrictions for your zones\n",
    "zone_restrictions = restrictions_df[restrictions_df[\"ParkingZone\"].isin(sensor_zone_numbers)].copy()\n",
    "\n",
    "# Remove \"Never Available\" zones (PP, DP)\n",
    "parkable_restrictions = zone_restrictions[~zone_restrictions[\"Restriction_Display\"].str.contains(\"PP|DP\", na=False)]\n",
    "\n",
    "# Get the columns you need\n",
    "restrictions_display = parkable_restrictions[[\n",
    "    \"ParkingZone\", \"Restriction_Days\", \"Time_Restrictions_Start\",\n",
    "    \"Time_Restrictions_Finish\", \"Restriction_Display\"\n",
    "]].copy()"
   ]
  },
  {
   "cell_type": "code",
   "execution_count": 11,
   "id": "eb49dfa1",
   "metadata": {},
   "outputs": [
    {
     "name": "stdout",
     "output_type": "stream",
     "text": [
      "Unique parkable zones: 199\n"
     ]
    }
   ],
   "source": [
    "parkable_unique_zones = parkable_restrictions[\"ParkingZone\"].nunique()\n",
    "print(f\"Unique parkable zones: {parkable_unique_zones}\")"
   ]
  },
  {
   "cell_type": "code",
   "execution_count": null,
   "id": "81703471",
   "metadata": {},
   "outputs": [],
   "source": []
  }
 ],
 "metadata": {
  "kernelspec": {
   "display_name": "base",
   "language": "python",
   "name": "python3"
  },
  "language_info": {
   "codemirror_mode": {
    "name": "ipython",
    "version": 3
   },
   "file_extension": ".py",
   "mimetype": "text/x-python",
   "name": "python",
   "nbconvert_exporter": "python",
   "pygments_lexer": "ipython3",
   "version": "3.12.2"
  }
 },
 "nbformat": 4,
 "nbformat_minor": 5
}
