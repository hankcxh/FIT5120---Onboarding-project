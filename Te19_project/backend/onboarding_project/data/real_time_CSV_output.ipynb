{
 "cells": [
  {
   "cell_type": "code",
   "execution_count": 1,
   "id": "b324b89b",
   "metadata": {},
   "outputs": [],
   "source": [
    "import pandas as pd\n",
    "\n",
    "import warnings\n",
    "warnings.filterwarnings(\"ignore\")"
   ]
  },
  {
   "cell_type": "code",
   "execution_count": 2,
   "id": "75f11a75",
   "metadata": {},
   "outputs": [],
   "source": [
    "# Load data\n",
    "base_dir = \"./Datasets\"\n",
    "\n",
    "sensors_df = pd.read_csv(f\"{base_dir}/on-street-parking-bay-sensors.csv\")\n",
    "bays_df = pd.read_csv(f\"{base_dir}/on-street-parking-bays.csv\")\n",
    "zones_df = pd.read_csv(f\"{base_dir}/parking-zones-linked-to-street-segments.csv\")\n",
    "restrictions_df = pd.read_csv(f\"{base_dir}/sign-plates-located-in-each-parking-zone.csv\")\n"
   ]
  },
  {
   "cell_type": "code",
   "execution_count": 3,
   "id": "9f358646",
   "metadata": {},
   "outputs": [],
   "source": [
    "# 1. Clean sensor data\n",
    "sensors_clean = sensors_df[sensors_df[\"Zone_Number\"].notna()].copy()\n",
    "sensors_clean[\"Status_Timestamp\"] = pd.to_datetime(sensors_clean[\"Status_Timestamp\"])\n",
    "latest_time = sensors_clean['Status_Timestamp'].max()\n",
    "cutoff_time = latest_time - pd.Timedelta(minutes=30)\n",
    "sensors_clean = sensors_clean[sensors_clean[\"Status_Timestamp\"] >= cutoff_time]"
   ]
  },
  {
   "cell_type": "code",
   "execution_count": 4,
   "id": "59ffddb3",
   "metadata": {},
   "outputs": [],
   "source": [
    "# 2. Get street coordinates (average by street name)\n",
    "sensor_zones = sensors_clean['Zone_Number'].unique()\n",
    "filtered_zones = zones_df[zones_df['ParkingZone'].isin(sensor_zones)]\n",
    "street_segments = filtered_zones[\"Segment_ID\"].unique()\n",
    "street_locations = bays_df[bays_df[\"RoadSegmentID\"].isin(street_segments)]\n",
    "\n",
    "# Get coordinates per segment then average by street\n",
    "street_coordinates = street_locations.groupby('RoadSegmentID').agg({\n",
    "    'Latitude': 'mean',\n",
    "    'Longitude': 'mean'\n",
    "}).reset_index()\n",
    "\n",
    "segment_to_street = filtered_zones[['Segment_ID', 'OnStreet']].drop_duplicates()\n",
    "street_coords = street_coordinates.merge(segment_to_street, left_on='RoadSegmentID', right_on='Segment_ID')\n",
    "street_avg_coords = street_coords.groupby('OnStreet').agg({\n",
    "    'Latitude': 'mean',\n",
    "    'Longitude': 'mean'\n",
    "}).reset_index()"
   ]
  },
  {
   "cell_type": "code",
   "execution_count": 5,
   "id": "3476409f",
   "metadata": {},
   "outputs": [],
   "source": [
    "# 3. Get restrictions (remove PP/DP zones)\n",
    "zone_restrictions = restrictions_df[restrictions_df[\"ParkingZone\"].isin(sensor_zones)]\n",
    "parkable_restrictions = zone_restrictions[~zone_restrictions[\"Restriction_Display\"].str.contains(\"PP|DP\", na=False)]"
   ]
  },
  {
   "cell_type": "code",
   "execution_count": 6,
   "id": "f45bc3dd",
   "metadata": {},
   "outputs": [],
   "source": [
    "# 4. Calculate parking statistics per zone\n",
    "zone_stats = sensors_clean.groupby('Zone_Number').agg({\n",
    "    'KerbsideID': 'count',  # Total spots\n",
    "    'Status_Description': lambda x: (x == 'Unoccupied').sum()  # Available spots\n",
    "}).rename(columns={'KerbsideID': 'total_spots', 'Status_Description': 'available_spots'}).reset_index()"
   ]
  },
  {
   "cell_type": "code",
   "execution_count": 7,
   "id": "40f8c787",
   "metadata": {},
   "outputs": [],
   "source": [
    "# 5. Map zones to streets\n",
    "zone_to_street = filtered_zones[['ParkingZone', 'OnStreet']].drop_duplicates()"
   ]
  },
  {
   "cell_type": "code",
   "execution_count": 8,
   "id": "ff052380",
   "metadata": {},
   "outputs": [],
   "source": [
    "# 6. Create final dataset\n",
    "# Start with zone stats\n",
    "final_data = zone_stats.merge(zone_to_street, left_on='Zone_Number', right_on='ParkingZone')\n",
    "\n",
    "# Add street coordinates\n",
    "final_data = final_data.merge(street_avg_coords, on='OnStreet')\n",
    "\n",
    "# Add restrictions (take first restriction per zone if multiple)\n",
    "restrictions_simple = parkable_restrictions.groupby('ParkingZone').first().reset_index()\n",
    "restrictions_simple['restriction_detail'] = (\n",
    "    restrictions_simple['Restriction_Days'] + ' ' + \n",
    "    restrictions_simple['Time_Restrictions_Start'].fillna('') + '-' + \n",
    "    restrictions_simple['Time_Restrictions_Finish'].fillna('') + ' ' + \n",
    "    restrictions_simple['Restriction_Display'].fillna('')\n",
    ").str.strip()\n",
    "\n",
    "final_data = final_data.merge(\n",
    "    restrictions_simple[['ParkingZone', 'restriction_detail']], \n",
    "    on='ParkingZone', \n",
    "    how='left'\n",
    ")"
   ]
  },
  {
   "cell_type": "code",
   "execution_count": 9,
   "id": "bb37a5a8",
   "metadata": {},
   "outputs": [],
   "source": [
    "# 7. Select and rename columns\n",
    "export_data = final_data[[\n",
    "    'OnStreet', 'Latitude', 'Longitude', 'Zone_Number', \n",
    "    'total_spots', 'available_spots', 'restriction_detail'\n",
    "]].rename(columns={\n",
    "    'OnStreet': 'street_name',\n",
    "    'Latitude': 'lat',\n",
    "    'Longitude': 'lon',\n",
    "    'Zone_Number': 'parking_zone'\n",
    "})"
   ]
  },
  {
   "cell_type": "code",
   "execution_count": 11,
   "id": "2e6da25f",
   "metadata": {},
   "outputs": [
    {
     "name": "stdout",
     "output_type": "stream",
     "text": [
      "Exported 175 records to melbourne_parking_data.csv\n",
      "Unique streets: 51\n",
      "Unique zones: 174\n"
     ]
    }
   ],
   "source": [
    "# 8. Export to CSV\n",
    "export_data.to_csv('melbourne_parking_data.csv', index=False)\n",
    "print(f\"Exported {len(export_data)} records to melbourne_parking_data.csv\")\n",
    "print(f\"Unique streets: {export_data['street_name'].nunique()}\")\n",
    "print(f\"Unique zones: {export_data['parking_zone'].nunique()}\")"
   ]
  }
 ],
 "metadata": {
  "kernelspec": {
   "display_name": "base",
   "language": "python",
   "name": "python3"
  },
  "language_info": {
   "codemirror_mode": {
    "name": "ipython",
    "version": 3
   },
   "file_extension": ".py",
   "mimetype": "text/x-python",
   "name": "python",
   "nbconvert_exporter": "python",
   "pygments_lexer": "ipython3",
   "version": "3.12.2"
  }
 },
 "nbformat": 4,
 "nbformat_minor": 5
}
